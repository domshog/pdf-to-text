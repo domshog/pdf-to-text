{
 "cells": [
  {
   "cell_type": "markdown",
   "metadata": {},
   "source": [
    "### Images"
   ]
  },
  {
   "cell_type": "code",
   "execution_count": 32,
   "metadata": {},
   "outputs": [],
   "source": [
    "import easyocr\n",
    "\n",
    "def ocr_arabic_text(image_path):\n",
    "    reader = easyocr.Reader(['ar'])\n",
    "    result = reader.readtext(image_path)\n",
    "\n",
    "    extracted_text = ''\n",
    "    for detection in result:\n",
    "        text = detection[1]\n",
    "        extracted_text += text + '\\n'\n",
    "\n",
    "    return extracted_text\n",
    "\n",
    "# Replace 'path/to/your/image.jpg' with the actual path to your scanned image\n",
    "image_path = 'temp_image_3.png'\n",
    "text_output = ocr_arabic_text(image_path)\n",
    "\n",
    "# Write the extracted text to a text file\n",
    "with open('output_text.txt', 'w', encoding='utf-8') as file:\n",
    "    file.write(text_output)\n",
    "\n",
    "print(\"OCR completed. Extracted text saved to output_text_image.txt\")"
   ]
  },
  {
   "cell_type": "code",
   "execution_count": 34,
   "metadata": {},
   "outputs": [
    {
     "name": "stderr",
     "output_type": "stream",
     "text": [
      "Neither CUDA nor MPS are available - defaulting to CPU. Note: This module is much faster with a GPU.\n"
     ]
    },
    {
     "name": "stdout",
     "output_type": "stream",
     "text": [
      "OCR completed. Extracted text saved to output_text_image.txt\n"
     ]
    }
   ],
   "source": [
    "# Replace 'path/to/your/image.jpg' with the actual path to your scanned image\n",
    "image_path = 'temp_image_3.png'\n",
    "text_output = ocr_arabic_text(image_path)\n",
    "\n",
    "# Write the extracted text to a text file\n",
    "with open('output_text.txt', 'w', encoding='utf-8') as file:\n",
    "    file.write(text_output)\n",
    "\n",
    "print(\"OCR completed. Extracted text saved to output_text_image.txt\")"
   ]
  },
  {
   "cell_type": "markdown",
   "metadata": {},
   "source": [
    "### PDF"
   ]
  },
  {
   "cell_type": "code",
   "execution_count": 15,
   "metadata": {},
   "outputs": [],
   "source": [
    "import easyocr\n",
    "import fitz  # PyMuPDF"
   ]
  },
  {
   "cell_type": "code",
   "execution_count": 16,
   "metadata": {},
   "outputs": [],
   "source": [
    "def ocr_pdf_arabic(pdf_path):\n",
    "    reader = easyocr.Reader(['ar'])\n",
    "\n",
    "    extracted_text = ''\n",
    "    pdf_document = fitz.open(pdf_path)\n",
    "\n",
    "    for page_num in range(pdf_document.page_count):\n",
    "        page = pdf_document.load_page(page_num)\n",
    "        pix = page.get_pixmap()\n",
    "        temp_image_path = f\"temp_image_{page_num}.png\"\n",
    "        pix.save(temp_image_path)\n",
    "\n",
    "        result = reader.readtext(temp_image_path)\n",
    "        for detection in result:\n",
    "            text = detection[1]\n",
    "            extracted_text += text + '\\n'\n",
    "\n",
    "    pdf_document.close()\n",
    "\n",
    "    return extracted_text"
   ]
  },
  {
   "cell_type": "code",
   "execution_count": 17,
   "metadata": {},
   "outputs": [
    {
     "name": "stderr",
     "output_type": "stream",
     "text": [
      "Neither CUDA nor MPS are available - defaulting to CPU. Note: This module is much faster with a GPU.\n"
     ]
    }
   ],
   "source": [
    "# Replace 'path/to/your/document.pdf' with the actual path to your PDF file\n",
    "pdf_path = 'yemeni_proverbs.pdf'\n",
    "text_output = ocr_pdf_arabic(pdf_path)"
   ]
  },
  {
   "cell_type": "code",
   "execution_count": 21,
   "metadata": {},
   "outputs": [
    {
     "name": "stdout",
     "output_type": "stream",
     "text": [
      "OCR completed for PDF. Extracted text saved to output_text_pdf.txt\n"
     ]
    }
   ],
   "source": [
    "# Write the extracted text to a text file\n",
    "with open('output_text.txt', 'w', encoding='utf-8') as file:\n",
    "    file.write(text_output)\n",
    "\n",
    "print(\"OCR completed for PDF. Extracted text saved to output_text_pdf.txt\")"
   ]
  },
  {
   "cell_type": "markdown",
   "metadata": {},
   "source": [
    "### EW METHOD"
   ]
  },
  {
   "cell_type": "code",
   "execution_count": null,
   "metadata": {},
   "outputs": [],
   "source": [
    "pip install python-docx"
   ]
  },
  {
   "cell_type": "code",
   "execution_count": 25,
   "metadata": {},
   "outputs": [
    {
     "name": "stderr",
     "output_type": "stream",
     "text": [
      "Neither CUDA nor MPS are available - defaulting to CPU. Note: This module is much faster with a GPU.\n"
     ]
    },
    {
     "name": "stdout",
     "output_type": "stream",
     "text": [
      "OCR completed for PDF. Extracted text saved to output_document.docx\n"
     ]
    }
   ],
   "source": [
    "import easyocr\n",
    "import fitz\n",
    "from docx import Document\n",
    "\n",
    "def ocr_pdf_arabic_to_doc(pdf_path):\n",
    "    reader = easyocr.Reader(['ar'])\n",
    "\n",
    "    doc = Document()\n",
    "    pdf_document = fitz.open(pdf_path)\n",
    "\n",
    "    for page_num in range(pdf_document.page_count):\n",
    "        page = pdf_document.load_page(page_num)\n",
    "        pix = page.get_pixmap()\n",
    "        temp_image_path = f\"temp_image_{page_num}.png\"\n",
    "        pix.save(temp_image_path)\n",
    "\n",
    "        result = reader.readtext(temp_image_path)\n",
    "        for detection in result:\n",
    "            text = detection[1]\n",
    "            doc.add_paragraph(text)\n",
    "\n",
    "    pdf_document.close()\n",
    "\n",
    "    doc.save('output_document.docx')\n",
    "    print(\"OCR completed for PDF. Extracted text saved to output_document.docx\")\n",
    "\n",
    "# Replace 'path/to/your/document.pdf' with the actual path to your PDF file\n",
    "pdf_path = 'yemeni_proverbs.pdf'\n",
    "ocr_pdf_arabic_to_doc(pdf_path)\n"
   ]
  }
 ],
 "metadata": {
  "kernelspec": {
   "display_name": "Python 3",
   "language": "python",
   "name": "python3"
  },
  "language_info": {
   "codemirror_mode": {
    "name": "ipython",
    "version": 3
   },
   "file_extension": ".py",
   "mimetype": "text/x-python",
   "name": "python",
   "nbconvert_exporter": "python",
   "pygments_lexer": "ipython3",
   "version": "3.11.3"
  }
 },
 "nbformat": 4,
 "nbformat_minor": 2
}
